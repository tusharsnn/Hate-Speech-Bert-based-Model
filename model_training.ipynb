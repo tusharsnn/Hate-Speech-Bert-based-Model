{
  "nbformat": 4,
  "nbformat_minor": 0,
  "metadata": {
    "accelerator": "GPU",
    "colab": {
      "name": "Project final year.ipynb",
      "provenance": [],
      "collapsed_sections": [],
      "toc_visible": true
    },
    "kernelspec": {
      "display_name": "Python 3",
      "name": "python3"
    },
    "language_info": {
      "name": "python"
    }
  },
  "cells": [
    {
      "cell_type": "markdown",
      "metadata": {
        "id": "7PN-bwWeHg-O"
      },
      "source": [
        "#**Loading Dependencies**"
      ]
    },
    {
      "cell_type": "code",
      "metadata": {
        "id": "dbWRSVSthTFH"
      },
      "source": [
        "!pip install tensorflow_hub\n",
        "!pip install keras tf-models-official pydot graphviz\n",
        "!pip install tensorflow_text"
      ],
      "execution_count": null,
      "outputs": []
    },
    {
      "cell_type": "code",
      "metadata": {
        "id": "smxgZK1P5oPv"
      },
      "source": [
        "import numpy as np\n",
        "import pandas as pd\n",
        "import scipy\n",
        "import tensorflow_text as text\n",
        "import tensorflow as tf\n",
        "import os\n",
        "import shutil\n",
        "import tensorflow_hub as hub\n",
        "import official.nlp.bert.tokenization as tokenization\n",
        "import matplotlib.pyplot as plt"
      ],
      "execution_count": null,
      "outputs": []
    },
    {
      "cell_type": "code",
      "metadata": {
        "colab": {
          "base_uri": "https://localhost:8080/"
        },
        "id": "WdApBb9Cy55Y",
        "outputId": "e43759bf-f23b-41d7-ec89-30bf20c51a64"
      },
      "source": [
        "gpus = tf.config.experimental.list_physical_devices('GPU')\n",
        "if gpus:\n",
        "  try:\n",
        "    for gpu in gpus:\n",
        "      tf.config.experimental.set_memory_growth(gpu, True)\n",
        "    logical_gpus = tf.config.experimental.list_logical_devices('GPU')\n",
        "    print(len(gpus), \"Physical GPUs,\", len(logical_gpus), \"Logical GPUs\")\n",
        "  except RuntimeError as e:\n",
        "    print(e)\n",
        "    \n",
        "print(\"Version: \", tf.__version__)\n",
        "print(\"Eager mode: \", tf.executing_eagerly())\n",
        "print(\"Hub version: \", hub.__version__)\n",
        "print(\"GPU is\", \"available\" if tf.config.list_physical_devices('GPU') else \"NOT AVAILABLE\")"
      ],
      "execution_count": null,
      "outputs": [
        {
          "output_type": "stream",
          "text": [
            "1 Physical GPUs, 1 Logical GPUs\n",
            "Version:  2.4.1\n",
            "Eager mode:  True\n",
            "Hub version:  0.12.0\n",
            "GPU is available\n"
          ],
          "name": "stdout"
        }
      ]
    },
    {
      "cell_type": "markdown",
      "metadata": {
        "id": "1M2cgXnyHTCD"
      },
      "source": [
        "# **Reading Dataset**"
      ]
    },
    {
      "cell_type": "code",
      "metadata": {
        "id": "D4j46ryiVusn"
      },
      "source": [
        "df = pd.read_csv(\"data.csv\", engine='python')"
      ],
      "execution_count": null,
      "outputs": []
    },
    {
      "cell_type": "code",
      "metadata": {
        "id": "TniJuaZ03mcc"
      },
      "source": [
        "x = df[\"text\"].values\n",
        "y = df[\"label\"].values"
      ],
      "execution_count": null,
      "outputs": []
    },
    {
      "cell_type": "code",
      "metadata": {
        "colab": {
          "base_uri": "https://localhost:8080/"
        },
        "id": "PBB2IfpER1d3",
        "outputId": "ff6031b7-090c-4457-9879-c676f7bb3f14"
      },
      "source": [
        "x"
      ],
      "execution_count": null,
      "outputs": [
        {
          "output_type": "execute_result",
          "data": {
            "text/plain": [
              "array(['I grew up near Little Italy ( not NY ) and parents grew up in Brooklyn .',\n",
              "       'Report : Nuclear weapon drivers sometimes got drunk - Yahoo !',\n",
              "       'Besides who would even bother to help them ?', ...,\n",
              "       'You are an retarded psychopath !!!', 'Your�should�fuck�off�now',\n",
              "       'you should go now.'], dtype=object)"
            ]
          },
          "metadata": {
            "tags": []
          },
          "execution_count": 6
        }
      ]
    },
    {
      "cell_type": "code",
      "metadata": {
        "colab": {
          "base_uri": "https://localhost:8080/"
        },
        "id": "uKIw_WGY4C5R",
        "outputId": "f5886293-ffc5-4e84-b859-0bba1afb7d2a"
      },
      "source": [
        "x.shape, y.shape"
      ],
      "execution_count": null,
      "outputs": [
        {
          "output_type": "execute_result",
          "data": {
            "text/plain": [
              "((2396,), (2396,))"
            ]
          },
          "metadata": {
            "tags": []
          },
          "execution_count": 7
        }
      ]
    },
    {
      "cell_type": "markdown",
      "metadata": {
        "id": "wHPZHDYwrA7q"
      },
      "source": [
        "#**Label Encoding**"
      ]
    },
    {
      "cell_type": "code",
      "metadata": {
        "id": "udwnpGVUq_cd"
      },
      "source": [
        "from sklearn.preprocessing import OneHotEncoder\n",
        "from sklearn.compose import ColumnTransformer\n",
        "one = OneHotEncoder()\n",
        "y = one.fit_transform(y[:,np.newaxis]).toarray()"
      ],
      "execution_count": null,
      "outputs": []
    },
    {
      "cell_type": "code",
      "metadata": {
        "colab": {
          "base_uri": "https://localhost:8080/"
        },
        "id": "m_87hp0iBwXL",
        "outputId": "21e6f628-9df9-44ef-d518-34e77413cb17"
      },
      "source": [
        "y"
      ],
      "execution_count": null,
      "outputs": [
        {
          "output_type": "execute_result",
          "data": {
            "text/plain": [
              "array([[0., 1.],\n",
              "       [0., 1.],\n",
              "       [1., 0.],\n",
              "       ...,\n",
              "       [1., 0.],\n",
              "       [1., 0.],\n",
              "       [0., 1.]])"
            ]
          },
          "metadata": {
            "tags": []
          },
          "execution_count": 9
        }
      ]
    },
    {
      "cell_type": "code",
      "metadata": {
        "colab": {
          "base_uri": "https://localhost:8080/"
        },
        "id": "D98bwN7vrbx0",
        "outputId": "99d72c78-72a0-47ef-9d73-7bbbdff1844f"
      },
      "source": [
        "one.inverse_transform(y)"
      ],
      "execution_count": null,
      "outputs": [
        {
          "output_type": "execute_result",
          "data": {
            "text/plain": [
              "array([['noHate'],\n",
              "       ['noHate'],\n",
              "       ['hate'],\n",
              "       ...,\n",
              "       ['hate'],\n",
              "       ['hate'],\n",
              "       ['noHate']], dtype=object)"
            ]
          },
          "metadata": {
            "tags": []
          },
          "execution_count": 10
        }
      ]
    },
    {
      "cell_type": "markdown",
      "metadata": {
        "id": "6vmjYPrqHGaU"
      },
      "source": [
        "#**Balanced Dataset**"
      ]
    },
    {
      "cell_type": "code",
      "metadata": {
        "colab": {
          "base_uri": "https://localhost:8080/",
          "height": 332
        },
        "id": "fymOW6EgMoVw",
        "outputId": "9cb1ef99-eff1-46a5-e466-54c5e04392bd"
      },
      "source": [
        "plt.hist(one.inverse_transform(y))"
      ],
      "execution_count": null,
      "outputs": [
        {
          "output_type": "execute_result",
          "data": {
            "text/plain": [
              "(array([1197.,    0.,    0.,    0.,    0.,    0.,    0.,    0.,    0.,\n",
              "        1199.]),\n",
              " array([0. , 0.1, 0.2, 0.3, 0.4, 0.5, 0.6, 0.7, 0.8, 0.9, 1. ]),\n",
              " <a list of 10 Patch objects>)"
            ]
          },
          "metadata": {
            "tags": []
          },
          "execution_count": 11
        },
        {
          "output_type": "display_data",
          "data": {
            "image/png": "[encoded data removed]",
            "text/plain": [
              "<Figure size 432x288 with 1 Axes>"
            ]
          },
          "metadata": {
            "tags": [],
            "needs_background": "light"
          }
        }
      ]
    },
    {
      "cell_type": "code",
      "metadata": {
        "colab": {
          "base_uri": "https://localhost:8080/"
        },
        "id": "Gx1nYiaixCs6",
        "outputId": "6ef14600-ee42-44e3-ca29-fe0585da7750"
      },
      "source": [
        "y"
      ],
      "execution_count": null,
      "outputs": [
        {
          "output_type": "execute_result",
          "data": {
            "text/plain": [
              "array([[0., 1.],\n",
              "       [0., 1.],\n",
              "       [1., 0.],\n",
              "       ...,\n",
              "       [1., 0.],\n",
              "       [1., 0.],\n",
              "       [0., 1.]])"
            ]
          },
          "metadata": {
            "tags": []
          },
          "execution_count": 12
        }
      ]
    },
    {
      "cell_type": "markdown",
      "metadata": {
        "id": "EEMKTBshHqTt"
      },
      "source": [
        "#**Loading Bert Models**"
      ]
    },
    {
      "cell_type": "code",
      "metadata": {
        "id": "8WsGqoweKdD-"
      },
      "source": [
        "# pip install -q tf-models-official"
      ],
      "execution_count": null,
      "outputs": []
    },
    {
      "cell_type": "code",
      "metadata": {
        "id": "zmGFu4VadvlC"
      },
      "source": [
        "encoder_layer = hub.KerasLayer('https://tfhub.dev/tensorflow/bert_en_uncased_L-12_H-768_A-12/4', trainable = True)"
      ],
      "execution_count": null,
      "outputs": []
    },
    {
      "cell_type": "markdown",
      "metadata": {
        "id": "Dy_BYD47Hzk3"
      },
      "source": [
        "#**Text Preproccesing**"
      ]
    },
    {
      "cell_type": "markdown",
      "metadata": {
        "id": "Q8T3URMtIj81"
      },
      "source": [
        "# **Splitting Dataset**"
      ]
    },
    {
      "cell_type": "code",
      "metadata": {
        "id": "jc69UtSOhs8d"
      },
      "source": [
        "from sklearn.model_selection import train_test_split\n",
        "x_train, x_test, y_train, y_test = train_test_split(x,y, test_size = 0.1)"
      ],
      "execution_count": null,
      "outputs": []
    },
    {
      "cell_type": "code",
      "metadata": {
        "id": "tNirt-d3h_vv"
      },
      "source": [
        "preprocessor = hub.KerasLayer(\"https://tfhub.dev/tensorflow/bert_en_uncased_preprocess/3\")"
      ],
      "execution_count": null,
      "outputs": []
    },
    {
      "cell_type": "code",
      "metadata": {
        "id": "uB3_NP-zjCQM"
      },
      "source": [
        "num_class = len(one.categories_[0])\n",
        "model = tf.keras.Sequential()\n",
        "input = tf.keras.layers.Input(shape=(), dtype=tf.string)\n",
        "encoder_input = preprocessor(input)\n",
        "outputs = encoder_layer(encoder_input)\n",
        "pooled_output = outputs[\"pooled_output\"]\n",
        "sequence_output = outputs[\"sequence_output\"]\n",
        "output = tf.keras.layers.Dropout(rate=0.1)(pooled_output)\n",
        "output = tf.keras.layers.Dense(num_class, activation='softmax', name='output')(output)\n",
        " \n",
        "model = tf.keras.Model(\n",
        "    inputs=input,\n",
        "        outputs=output)"
      ],
      "execution_count": null,
      "outputs": []
    },
    {
      "cell_type": "code",
      "metadata": {
        "colab": {
          "base_uri": "https://localhost:8080/",
          "height": 216
        },
        "id": "QzpIhPW8sCFq",
        "outputId": "c42354b7-99f3-46ee-8932-b4c4469d3445"
      },
      "source": [
        "tf.keras.utils.plot_model(model, show_shapes=True, dpi=70)"
      ],
      "execution_count": null,
      "outputs": [
        {
          "output_type": "execute_result",
          "data": {
            "image/png": "[encoded data removed]",
            "text/plain": [
              "<IPython.core.display.Image object>"
            ]
          },
          "metadata": {
            "tags": []
          },
          "execution_count": 18
        }
      ]
    },
    {
      "cell_type": "code",
      "metadata": {
        "id": "sMFqu3VBsR2e"
      },
      "source": [
        "epochs = 3\n",
        "batch_size = 8  # select based on your GPU resources\n",
        "eval_batch_size = batch_size\n",
        "\n",
        "optimizer = tf.keras.optimizers.Adam(learning_rate = 2e-5)"
      ],
      "execution_count": null,
      "outputs": []
    },
    {
      "cell_type": "code",
      "metadata": {
        "id": "0z8_pibRsopO"
      },
      "source": [
        "model.compile(optimizer=optimizer,\n",
        "              loss='categorical_crossentropy',\n",
        "              metrics=['accuracy'])"
      ],
      "execution_count": null,
      "outputs": []
    },
    {
      "cell_type": "code",
      "metadata": {
        "colab": {
          "base_uri": "https://localhost:8080/"
        },
        "id": "4eenkvcBsEVq",
        "outputId": "70fa58f1-0d27-418e-e43b-f3a87f376174"
      },
      "source": [
        "model.summary()"
      ],
      "execution_count": null,
      "outputs": [
        {
          "output_type": "stream",
          "text": [
            "Model: \"model\"\n",
            "__________________________________________________________________________________________________\n",
            "Layer (type)                    Output Shape         Param #     Connected to                     \n",
            "==================================================================================================\n",
            "input_1 (InputLayer)            [(None,)]            0                                            \n",
            "__________________________________________________________________________________________________\n",
            "keras_layer_1 (KerasLayer)      {'input_type_ids': ( 0           input_1[0][0]                    \n",
            "__________________________________________________________________________________________________\n",
            "keras_layer (KerasLayer)        {'sequence_output':  109482241   keras_layer_1[0][0]              \n",
            "                                                                 keras_layer_1[0][1]              \n",
            "                                                                 keras_layer_1[0][2]              \n",
            "__________________________________________________________________________________________________\n",
            "dropout (Dropout)               (None, 768)          0           keras_layer[0][13]               \n",
            "__________________________________________________________________________________________________\n",
            "output (Dense)                  (None, 2)            1538        dropout[0][0]                    \n",
            "==================================================================================================\n",
            "Total params: 109,483,779\n",
            "Trainable params: 109,483,778\n",
            "Non-trainable params: 1\n",
            "__________________________________________________________________________________________________\n"
          ],
          "name": "stdout"
        }
      ]
    },
    {
      "cell_type": "code",
      "metadata": {
        "colab": {
          "base_uri": "https://localhost:8080/"
        },
        "id": "l_AhTC7ItJSU",
        "outputId": "5612cbe6-9d90-453d-94cc-9e4624d3f8c2"
      },
      "source": [
        "history = model.fit(x_train,\n",
        "                    y_train,\n",
        "                    epochs=epochs,\n",
        "                    batch_size=batch_size,\n",
        "                    validation_data=(x_test, y_test),\n",
        "                    verbose=1,\n",
        "                    )"
      ],
      "execution_count": null,
      "outputs": [
        {
          "output_type": "stream",
          "text": [
            "Epoch 1/3\n",
            "270/270 [==============================] - 126s 467ms/step - loss: 0.0230 - accuracy: 0.9940 - val_loss: 0.6661 - val_accuracy: 0.8583\n",
            "Epoch 2/3\n",
            "270/270 [==============================] - 126s 467ms/step - loss: 0.0224 - accuracy: 0.9935 - val_loss: 0.7709 - val_accuracy: 0.8458\n",
            "Epoch 3/3\n",
            "270/270 [==============================] - 126s 467ms/step - loss: 0.0342 - accuracy: 0.9893 - val_loss: 0.5880 - val_accuracy: 0.8792\n"
          ],
          "name": "stdout"
        }
      ]
    },
    {
      "cell_type": "code",
      "metadata": {
        "colab": {
          "base_uri": "https://localhost:8080/"
        },
        "id": "2ikPxJ2rCHtN",
        "outputId": "31b5f4a9-3c50-42e4-f9e2-740c1b74f5e1"
      },
      "source": [
        "model.save('/content/drive/MyDrive/finalModel')"
      ],
      "execution_count": null,
      "outputs": [
        {
          "output_type": "stream",
          "text": [
            "WARNING:absl:Found untraced functions such as restored_function_body, restored_function_body, restored_function_body, restored_function_body, restored_function_body while saving (showing 5 of 915). These functions will not be directly callable after loading.\n",
            "WARNING:absl:Found untraced functions such as restored_function_body, restored_function_body, restored_function_body, restored_function_body, restored_function_body while saving (showing 5 of 915). These functions will not be directly callable after loading.\n"
          ],
          "name": "stderr"
        },
        {
          "output_type": "stream",
          "text": [
            "INFO:tensorflow:Assets written to: /content/drive/MyDrive/finalModel/assets\n"
          ],
          "name": "stdout"
        },
        {
          "output_type": "stream",
          "text": [
            "INFO:tensorflow:Assets written to: /content/drive/MyDrive/finalModel/assets\n"
          ],
          "name": "stderr"
        }
      ]
    },
    {
      "cell_type": "code",
      "metadata": {
        "id": "aoKSTnDdGOOf"
      },
      "source": [
        "pretrained = tf.keras.models.load_model('/content/drive/MyDrive/finalModel')"
      ],
      "execution_count": null,
      "outputs": []
    },
    {
      "cell_type": "code",
      "metadata": {
        "id": "BluNibk2hxql"
      },
      "source": [
        "def label(prediction):\n",
        "  if prediction == 0:\n",
        "    return \"Offensive\"\n",
        "  if prediction == 1:\n",
        "    return \"Normal\""
      ],
      "execution_count": null,
      "outputs": []
    },
    {
      "cell_type": "code",
      "metadata": {
        "colab": {
          "base_uri": "https://localhost:8080/"
        },
        "id": "uy2u7rZzUNyJ",
        "outputId": "ad14ec07-c840-4389-d5ba-70477cf33c0a"
      },
      "source": [
        "tweets = \"you are psychopath\"\n",
        "#processed_tweet = bert_encode([tweets], tokenizer, 512)\n",
        "prediction = np.argmax(pretrained.predict([tweets]),axis=1)\n",
        "print(label(prediction))"
      ],
      "execution_count": null,
      "outputs": [
        {
          "output_type": "stream",
          "text": [
            "Offensive\n"
          ],
          "name": "stdout"
        }
      ]
    },
    {
      "cell_type": "code",
      "metadata": {
        "colab": {
          "base_uri": "https://localhost:8080/"
        },
        "id": "3Rz7NeYPFfX1",
        "outputId": "3a48f5e8-b7c7-4266-e8ac-b40faeecae80"
      },
      "source": [
        "tweets = \"you are a good boy\"\n",
        "#processed_tweet = bert_encode([tweets], tokenizer, 512)\n",
        "prediction = np.argmax(pretrained.predict([tweets]),axis=1)\n",
        "print(label(prediction))"
      ],
      "execution_count": null,
      "outputs": [
        {
          "output_type": "stream",
          "text": [
            "Normal\n"
          ],
          "name": "stdout"
        }
      ]
    },
    {
      "cell_type": "code",
      "metadata": {
        "colab": {
          "base_uri": "https://localhost:8080/"
        },
        "id": "_nL976SxGWJR",
        "outputId": "4dbd0a79-4bc4-4629-ce76-69736ee7ba02"
      },
      "source": [
        "!zip -r model.zip my_model/"
      ],
      "execution_count": null,
      "outputs": [
        {
          "output_type": "stream",
          "text": [
            "  adding: my_model/ (stored 0%)\n",
            "  adding: my_model/assets/ (stored 0%)\n",
            "  adding: my_model/assets/vocab.txt (deflated 53%)\n",
            "  adding: my_model/saved_model.pb (deflated 92%)\n",
            "  adding: my_model/variables/ (stored 0%)\n",
            "  adding: my_model/variables/variables.index (deflated 82%)\n",
            "  adding: my_model/variables/variables.data-00000-of-00001 (deflated 18%)\n"
          ],
          "name": "stdout"
        }
      ]
    },
    {
      "cell_type": "code",
      "metadata": {
        "id": "n_sCilTQHAtc"
      },
      "source": [
        "!cp model.zip /content/drive/MyDrive/"
      ],
      "execution_count": null,
      "outputs": []
    },
    {
      "cell_type": "code",
      "metadata": {
        "colab": {
          "base_uri": "https://localhost:8080/"
        },
        "id": "cb-0Oha2gleK",
        "outputId": "7dbee007-d193-45f7-f41c-0e36b9c19948"
      },
      "source": [
        "model.evaluate(x_test, y_test)"
      ],
      "execution_count": null,
      "outputs": [
        {
          "output_type": "stream",
          "text": [
            "8/8 [==============================] - 3s 291ms/step - loss: 0.0811 - accuracy: 0.9792\n"
          ],
          "name": "stdout"
        },
        {
          "output_type": "execute_result",
          "data": {
            "text/plain": [
              "[0.08111841231584549, 0.9791666865348816]"
            ]
          },
          "metadata": {
            "tags": []
          },
          "execution_count": 46
        }
      ]
    },
    {
      "cell_type": "code",
      "metadata": {
        "colab": {
          "base_uri": "https://localhost:8080/"
        },
        "id": "E-TKeUqnw6gT",
        "outputId": "8c28d45a-6818-44b5-a841-9768bd156c21"
      },
      "source": [
        "!ls -sh model.zip"
      ],
      "execution_count": null,
      "outputs": [
        {
          "output_type": "stream",
          "text": [
            "1.1G model.zip\n"
          ],
          "name": "stdout"
        }
      ]
    }
  ]
}